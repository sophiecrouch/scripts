{
 "cells": [
  {
   "cell_type": "code",
   "execution_count": 1,
   "id": "232f8bfd",
   "metadata": {},
   "outputs": [],
   "source": [
    "import numpy as np\n",
    "import matplotlib.pyplot as plt\n",
    "from scipy.interpolate import griddata"
   ]
  },
  {
   "cell_type": "code",
   "execution_count": 10,
   "id": "4f102ff7",
   "metadata": {},
   "outputs": [],
   "source": [
    "# Load data from CSV\n",
    "dat = np.genfromtxt('cdf_2_rdf[#2r_#2o]_adf[C1r_C4r]-[C1o_C4o]_triples.csv', delimiter='; ',skip_header=0)\n",
    "X_dat = dat[:,0]\n",
    "Y_dat = dat[:,1]\n",
    "Z_dat = dat[:,2]"
   ]
  },
  {
   "cell_type": "code",
   "execution_count": 12,
   "id": "2b090901",
   "metadata": {},
   "outputs": [
    {
     "name": "stdout",
     "output_type": "stream",
     "text": [
      "[ 0.          0.          0.         ... 37.53167026 19.57824915\n",
      " 39.5552615 ]\n"
     ]
    }
   ],
   "source": [
    "# Convert from pandas dataframes to numpy arrays\n",
    "X, Y, Z, = np.array([]), np.array([]), np.array([])\n",
    "for i in range(len(X_dat)):\n",
    "        X = np.append(X, X_dat[i])\n",
    "        Y = np.append(Y, Y_dat[i])\n",
    "        Z = np.append(Z, Z_dat[i])\n",
    "print(Z)"
   ]
  },
  {
   "cell_type": "code",
   "execution_count": 37,
   "id": "a65632c3",
   "metadata": {},
   "outputs": [
    {
     "data": {
      "image/png": "[encoded data removed]",
      "text/plain": [
       "<Figure size 432x288 with 2 Axes>"
      ]
     },
     "metadata": {
      "needs_background": "light"
     },
     "output_type": "display_data"
    }
   ],
   "source": [
    "# create x-y points to be used in heatmap\n",
    "xi = np.linspace(X.min(), X.max(), 1000)\n",
    "yi = np.linspace(Y.min(), Y.max(), 1000)\n",
    "\n",
    "# Interpolate for plotting\n",
    "zi = griddata((X, Y), Z, (xi[None,:], yi[:,None]), method='cubic')\n",
    "\n",
    "# I control the range of my colorbar by removing data \n",
    "# outside of my range of interest\n",
    "zmin = -5\n",
    "zmax = 2000\n",
    "zi[(zi<zmin) | (zi>zmax)] = None\n",
    "\n",
    "# Create the contour plot\n",
    "CS = plt.contourf(xi, yi, zi, 15, cmap=plt.cm.rainbow,\n",
    "                  vmax=zmax, vmin=zmin)\n",
    "clb=plt.colorbar()\n",
    "clb.ax.tick_params(labelsize=10)\n",
    "clb.ax.set_title('Occurence',fontsize=10)\n",
    "plt.ylabel(\"Angle \" + \"(\" + chr(176) + \")\")\n",
    "plt.xlabel(\"Distance (pm)\")\n",
    "plt.show()"
   ]
  },
  {
   "cell_type": "code",
   "execution_count": null,
   "id": "e0a89a2d",
   "metadata": {},
   "outputs": [],
   "source": []
  }
 ],
 "metadata": {
  "kernelspec": {
   "display_name": "Python 3",
   "language": "python",
   "name": "python3"
  },
  "language_info": {
   "codemirror_mode": {
    "name": "ipython",
    "version": 3
   },
   "file_extension": ".py",
   "mimetype": "text/x-python",
   "name": "python",
   "nbconvert_exporter": "python",
   "pygments_lexer": "ipython3",
   "version": "3.8.8"
  }
 },
 "nbformat": 4,
 "nbformat_minor": 5
}
